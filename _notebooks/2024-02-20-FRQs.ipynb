{
 "cells": [
  {
   "cell_type": "markdown",
   "metadata": {},
   "source": [
    "---\n",
    "title: Tri 2 FRQ finals\n",
    "toc: true\n",
    "layout: post\n",
    "comments: true\n",
    "courses: { csa: {week: 24} }\n",
    "---"
   ]
  },
  {
   "cell_type": "markdown",
   "metadata": {},
   "source": [
    "# 1\n",
    "\n",
    "## a. \n",
    "<img width=\"759\" alt=\"Screenshot 2024-02-20 at 12 43 21 PM\" src=\"https://github.com/CoolCodingPeople/place/assets/111465192/055ebf9f-3813-4c6a-a263-73f9daf1e33f\">\n",
    "\n",
    "### Answer:\n",
    "```java\n",
    "\n",
    "\n",
    "```\n",
    "## b. \n",
    "<img width=\"765\" alt=\"Screenshot 2024-02-20 at 12 44 10 PM\" src=\"https://github.com/CoolCodingPeople/place/assets/111465192/d97351a2-7fa5-4931-b41b-f0468c89c617\">\n",
    "\n",
    "### Answer:\n",
    "```java\n",
    "\n",
    "\n",
    "```\n",
    "\n",
    "## c.\n",
    "<img width=\"894\" alt=\"Screenshot 2024-02-20 at 12 46 01 PM\" src=\"https://github.com/CoolCodingPeople/place/assets/111465192/45711d73-039a-49f2-bb5a-9758baa24790\">\n",
    "\n",
    "### Answer:\n",
    "```java\n",
    "\n",
    "\n",
    "```\n",
    "\n"
   ]
  },
  {
   "cell_type": "markdown",
   "metadata": {},
   "source": [
    "# 2\n",
    "\n",
    "<img width=\"902\" alt=\"Screenshot 2024-02-20 at 12 47 58 PM\" src=\"https://github.com/CoolCodingPeople/place/assets/111465192/c42464a4-13e5-4a9f-9f6d-c97c0472f903\">\n",
    "\n",
    "### Answer:\n",
    "```java\n",
    "\n",
    "\n",
    "```"
   ]
  },
  {
   "cell_type": "markdown",
   "metadata": {},
   "source": [
    "# 3\n",
    "![Assignment name: 2015 Practice Exam FRQ: Question 3: Part a: getValueAt](https://github.com/CoolCodingPeople/place/assets/111465192/6cdac087-5071-4140-86fc-ebb24fa27a2c)\n",
    "\n",
    "### Answer:\n",
    "```java\n",
    "\n",
    "\n",
    "```"
   ]
  },
  {
   "cell_type": "markdown",
   "metadata": {},
   "source": [
    "# 4\n",
    "\n",
    "## a. \n",
    "<img width=\"890\" alt=\"Screenshot 2024-02-20 at 12 58 25 PM\" src=\"https://github.com/CoolCodingPeople/place/assets/111465192/fdb3a395-2908-4d4a-9d53-bde69100469e\">\n",
    "\n",
    "### Answer:\n",
    "```java\n",
    "\n",
    "```\n",
    "\n",
    "## b.\n",
    "<img width=\"913\" alt=\"Screenshot 2024-02-20 at 12 59 15 PM\" src=\"https://github.com/CoolCodingPeople/place/assets/111465192/4dff0af7-9422-468f-b442-d7528c1c3792\">\n",
    "\n",
    "### Answer:\n",
    "```java\n",
    "\n",
    "```\n",
    "\n",
    "## c.\n",
    "<img width=\"901\" alt=\"Screenshot 2024-02-20 at 12 59 49 PM\" src=\"https://github.com/CoolCodingPeople/place/assets/111465192/c3bf376a-824a-4f5a-9900-5b9dcdfa74d4\">\n",
    "\n",
    "### Answer:\n",
    "```java\n",
    "\n",
    "```"
   ]
  }
 ],
 "metadata": {
  "language_info": {
   "name": "python"
  }
 },
 "nbformat": 4,
 "nbformat_minor": 2
}
