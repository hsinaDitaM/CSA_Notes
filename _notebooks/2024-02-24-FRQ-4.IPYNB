{
 "cells": [
  {
   "cell_type": "markdown",
   "metadata": {},
   "source": [
    "---\n",
    "title: Tri 2 FRQ 4 finals\n",
    "toc: true\n",
    "layout: post\n",
    "comments: true\n",
    "type: hacks\n",
    "courses: { csa: {week: 24} }\n",
    "---"
   ]
  },
  {
   "cell_type": "markdown",
   "metadata": {},
   "source": [
    "----\n",
    "\n",
    "# 4 \n",
    "\n",
    "## a. \n",
    "```java\n",
    "// This is the NumberGroup interface declaration.\n",
    "public interface NumberGroup {\n",
    "\n",
    "    // The contains method takes an integer as input and returns \n",
    "    // a boolean indicating whether or not the given integer is \n",
    "    // contained within the number group.\n",
    "    boolean contains(int number);\n",
    "}\n",
    "```\n",
    "\n",
    "## b. \n",
    "```java\n",
    "// The Range class implements the NumberGroup interface.\n",
    "public class Range implements NumberGroup {\n",
    "    // Instance variables to store the minimum and maximum values of the range.\n",
    "    private int min;\n",
    "    private int max;\n",
    "\n",
    "    // Constructor that takes the minimum and maximum values of the range.\n",
    "    public Range(int min, int max) {\n",
    "        this.min = min;\n",
    "        this.max = max;\n",
    "    }\n",
    "\n",
    "    // The contains method checks if a given integer is within the range.\n",
    "    public boolean contains(int number) {\n",
    "        return number >= min && number <= max;\n",
    "    }\n",
    "}\n",
    "```\n",
    "\n",
    "## c. \n",
    "```java\n",
    "public boolean contains(int num) {\n",
    "    // Iterate over each NumberGroup in groupList\n",
    "    for (NumberGroup group : groupList) {\n",
    "        // Check if the number is contained within the current group\n",
    "        if (group.contains(num)) {\n",
    "            // If the number is found, return true immediately\n",
    "            return true;\n",
    "        }\n",
    "    }\n",
    "    // If the number is not found in any group, return false\n",
    "    return false;\n",
    "}\n",
    "\n",
    "```"
   ]
  }
 ],
 "metadata": {
  "language_info": {
   "name": "python"
  }
 },
 "nbformat": 4,
 "nbformat_minor": 2
}
