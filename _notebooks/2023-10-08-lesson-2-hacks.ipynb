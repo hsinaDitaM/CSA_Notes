{
 "cells": [
  {
   "cell_type": "markdown",
   "metadata": {},
   "source": [
    "---\n",
    "layout: post\n",
    "title: lesson 2 hacks\n",
    "description: the hacks for all of the secction 2\n",
    "toc: true\n",
    "comments: true\n",
    "courses: { csa: {week: 6} }\n",
    "type: hacks\n",
    "---"
   ]
  },
  {
   "cell_type": "markdown",
   "metadata": {},
   "source": [
    "# hack numero uno (chatgpt)"
   ]
  },
  {
   "cell_type": "code",
   "execution_count": 1,
   "metadata": {
    "vscode": {
     "languageId": "java"
    }
   },
   "outputs": [
    {
     "name": "stdout",
     "output_type": "stream",
     "text": [
      "Value at index 1: 20\n",
      "Index is out of bounds.\n",
      "Value at index 5: -1\n"
     ]
    }
   ],
   "source": [
    "import java.util.ArrayList;\n",
    "\n",
    "public class ArrayListExample {\n",
    "    private ArrayList<Integer> arrayList = new ArrayList<>();\n",
    "\n",
    "    // Void method to add an integer to the ArrayList\n",
    "    public void addToArrayList(int value) {\n",
    "        arrayList.add(value);\n",
    "    }\n",
    "\n",
    "    // Non-void method to retrieve a value from the ArrayList at a specific index\n",
    "    public int getValueAtIndex(int index) {\n",
    "        if (index >= 0 && index < arrayList.size()) {\n",
    "            return arrayList.get(index);\n",
    "        } else {\n",
    "            // Handle index out of bounds error\n",
    "            System.out.println(\"Index is out of bounds.\");\n",
    "            return -1; // You can choose an appropriate default value or throw an exception\n",
    "        }\n",
    "    }\n",
    "\n",
    "    public static void main(String[] args) {\n",
    "        ArrayListExample example = new ArrayListExample();\n",
    "\n",
    "        // Adding values to the ArrayList\n",
    "        example.addToArrayList(10);\n",
    "        example.addToArrayList(20);\n",
    "        example.addToArrayList(30);\n",
    "\n",
    "        // Retrieving a value from the ArrayList at a specific index\n",
    "        int valueAtIndex = example.getValueAtIndex(1);\n",
    "        System.out.println(\"Value at index 1: \" + valueAtIndex);\n",
    "\n",
    "        // Trying to access an index that is out of bounds\n",
    "        int outOfBoundsValue = example.getValueAtIndex(5);\n",
    "        System.out.println(\"Value at index 5: \" + outOfBoundsValue);\n",
    "    }\n",
    "}\n",
    "ArrayListExample.main(null)"
   ]
  },
  {
   "cell_type": "markdown",
   "metadata": {},
   "source": [
    "# hack numero dos (chatgpt)"
   ]
  },
  {
   "cell_type": "code",
   "execution_count": 3,
   "metadata": {
    "vscode": {
     "languageId": "java"
    }
   },
   "outputs": [
    {
     "name": "stdout",
     "output_type": "stream",
     "text": [
      "Welcome to the Guessing Game!\n",
      "I've raised a number to an exponent (including roots), can you guess them?\n",
      "Here's a hint: The result is 503.5925459322878\n",
      "Guess the base: Guess the exponent: Incorrect! Try again.\n",
      "Hint: The base is lower.\n",
      "Hint: The exponent is higher.\n",
      "Guess the base: Guess the exponent: Incorrect! Try again.\n",
      "Hint: The base is higher.\n",
      "Hint: The exponent is higher.\n",
      "Guess the base: Guess the exponent: Incorrect! Try again.\n",
      "Hint: The base is higher.\n",
      "Hint: The exponent is higher.\n",
      "Guess the base: Guess the exponent: Incorrect! Try again.\n",
      "Hint: The base is lower.\n",
      "Hint: The exponent is lower.\n",
      "Guess the base: Guess the exponent: Incorrect! Try again.\n",
      "Hint: The base is lower.\n",
      "Hint: The exponent is lower.\n",
      "Guess the base: Guess the exponent: Incorrect! Try again.\n",
      "Hint: The base is lower.\n",
      "Hint: The exponent is higher.\n",
      "Guess the base: Guess the exponent: Incorrect! Try again.\n",
      "Hint: The base is lower.\n",
      "Hint: The exponent is higher.\n",
      "Guess the base: Guess the exponent: Incorrect! Try again.\n",
      "Hint: The base is lower.\n",
      "Hint: The exponent is lower.\n",
      "Guess the base: Guess the exponent: Incorrect! Try again.\n",
      "Hint: The base is lower.\n",
      "Hint: The exponent is lower.\n",
      "Guess the base: Guess the exponent: Incorrect! Try again.\n",
      "Hint: The base is lower.\n",
      "Hint: The exponent is lower.\n",
      "Guess the base: Guess the exponent: Incorrect! Try again.\n",
      "Hint: The base is lower.\n",
      "Hint: The exponent is higher.\n",
      "Guess the base: Guess the exponent: Incorrect! Try again.\n",
      "Hint: The base is lower.\n",
      "Hint: The exponent is higher.\n",
      "Guess the base: Guess the exponent: Incorrect! Try again.\n",
      "Hint: The base is lower.\n",
      "Hint: The exponent is lower.\n",
      "Guess the base: Guess the exponent: "
     ]
    }
   ],
   "source": [
    "import java.util.Random;\n",
    "import java.util.Scanner;\n",
    "\n",
    "public class GuessingGame {\n",
    "    private static Random random = new Random();\n",
    "    private double base;\n",
    "    private double result;\n",
    "    private int exponent;\n",
    "\n",
    "    public GuessingGame() {\n",
    "        // Generate a random base value between 2 and 10\n",
    "        base = random.nextDouble() * 8 + 2;\n",
    "\n",
    "        // Generate a random exponent between 2 and 5\n",
    "        exponent = random.nextInt(4) + 2;\n",
    "\n",
    "        // Calculate the result by raising the base to the exponent\n",
    "        result = Math.pow(base, exponent);\n",
    "    }\n",
    "\n",
    "    public void play() {\n",
    "        Scanner scanner = new Scanner(System.in);\n",
    "        int attempts = 0;\n",
    "        double guessBase;\n",
    "        int guessExponent;\n",
    "\n",
    "        System.out.println(\"Welcome to the Guessing Game!\");\n",
    "        System.out.println(\"I've raised a number to an exponent (including roots), can you guess them?\");\n",
    "        System.out.println(\"Here's a hint: The result is \" + result);\n",
    "\n",
    "        do {\n",
    "            System.out.print(\"Guess the base: \");\n",
    "            guessBase = scanner.nextDouble();\n",
    "\n",
    "            System.out.print(\"Guess the exponent: \");\n",
    "            guessExponent = scanner.nextInt();\n",
    "\n",
    "            attempts++;\n",
    "\n",
    "            if (guessBase == base && guessExponent == exponent) {\n",
    "                System.out.println(\"Congratulations! You guessed it!\");\n",
    "                System.out.println(\"It took you \" + attempts + \" attempts.\");\n",
    "                break;\n",
    "            } else {\n",
    "                System.out.println(\"Incorrect! Try again.\");\n",
    "\n",
    "                // Provide hints based on the player's guesses\n",
    "                if (guessBase < base) {\n",
    "                    System.out.println(\"Hint: The base is higher.\");\n",
    "                } else {\n",
    "                    System.out.println(\"Hint: The base is lower.\");\n",
    "                }\n",
    "\n",
    "                if (guessExponent < exponent) {\n",
    "                    System.out.println(\"Hint: The exponent is higher.\");\n",
    "                } else {\n",
    "                    System.out.println(\"Hint: The exponent is lower.\");\n",
    "                }\n",
    "            }\n",
    "        } while (true);\n",
    "    }\n",
    "\n",
    "    public static void main(String[] args) {\n",
    "        GuessingGame game = new GuessingGame();\n",
    "        game.play();\n",
    "    }\n",
    "}\n",
    "GuessingGame.main(null)"
   ]
  },
  {
   "cell_type": "markdown",
   "metadata": {
    "vscode": {
     "languageId": "java"
    }
   },
   "source": [
    "# hack numero tres (chatgpt)"
   ]
  },
  {
   "cell_type": "code",
   "execution_count": 1,
   "metadata": {
    "vscode": {
     "languageId": "java"
    }
   },
   "outputs": [
    {
     "name": "stdout",
     "output_type": "stream",
     "text": [
      "Person 1:\n",
      "Name: Alice\n",
      "Age: 25\n",
      "Is a student: true\n",
      "Height: 5.6 feet\n",
      "\n",
      "Person 3:\n",
      "Name: Charlie\n",
      "Age: 18\n",
      "Is a student: true\n",
      "Height: 5.8 feet\n"
     ]
    }
   ],
   "source": [
    "public class Person {\n",
    "    private int age;\n",
    "    private boolean isStudent;\n",
    "    private String name;\n",
    "    private double height;\n",
    "\n",
    "    public Person(int age, boolean isStudent, String name, double height) {\n",
    "        this.age = age;\n",
    "        this.isStudent = isStudent;\n",
    "        this.name = name;\n",
    "        this.height = height;\n",
    "    }\n",
    "\n",
    "    public int getAge() {\n",
    "        return age;\n",
    "    }\n",
    "\n",
    "    public boolean isStudent() {\n",
    "        return isStudent;\n",
    "    }\n",
    "\n",
    "    public String getName() {\n",
    "        return name;\n",
    "    }\n",
    "\n",
    "    public double getHeight() {\n",
    "        return height;\n",
    "    }\n",
    "\n",
    "    public static void main(String[] args) {\n",
    "        // Create instances of the Person class with sample data\n",
    "        Person person1 = new Person(25, true, \"Alice\", 5.6);\n",
    "        Person person2 = new Person(30, false, \"Bob\", 6.0);\n",
    "        Person person3 = new Person(18, true, \"Charlie\", 5.8);\n",
    "        Person person4 = new Person(40, false, \"David\", 5.9);\n",
    "        Person person5 = new Person(22, true, \"Eve\", 5.7);\n",
    "\n",
    "        // Access and display information about the persons\n",
    "        System.out.println(\"Person 1:\");\n",
    "        System.out.println(\"Name: \" + person1.getName());\n",
    "        System.out.println(\"Age: \" + person1.getAge());\n",
    "        System.out.println(\"Is a student: \" + person1.isStudent());\n",
    "        System.out.println(\"Height: \" + person1.getHeight() + \" feet\\n\");\n",
    "\n",
    "        System.out.println(\"Person 3:\");\n",
    "        System.out.println(\"Name: \" + person3.getName());\n",
    "        System.out.println(\"Age: \" + person3.getAge());\n",
    "        System.out.println(\"Is a student: \" + person3.isStudent());\n",
    "        System.out.println(\"Height: \" + person3.getHeight() + \" feet\");\n",
    "    }\n",
    "}\n",
    "Person.main(null)"
   ]
  },
  {
   "cell_type": "markdown",
   "metadata": {},
   "source": [
    "# hack numero cuarto (chatgpt)"
   ]
  },
  {
   "cell_type": "code",
   "execution_count": 2,
   "metadata": {
    "vscode": {
     "languageId": "java"
    }
   },
   "outputs": [
    {
     "name": "stdout",
     "output_type": "stream",
     "text": [
      "First Name: John\n",
      "Last Name: Doe\n"
     ]
    }
   ],
   "source": [
    "public class PersonName {\n",
    "    private String fullName;\n",
    "\n",
    "    public PersonName(String fullName) {\n",
    "        this.fullName = fullName;\n",
    "    }\n",
    "\n",
    "    // Method to get the person's first name\n",
    "    public String getFirstName() {\n",
    "        StringBuilder firstName = new StringBuilder();\n",
    "\n",
    "        // Iterate through the characters in the full name\n",
    "        for (int i = 0; i < fullName.length(); i++) {\n",
    "            char c = fullName.charAt(i);\n",
    "\n",
    "            // Stop when we encounter a space\n",
    "            if (c == ' ') {\n",
    "                break;\n",
    "            }\n",
    "\n",
    "            // Append the character to the first name\n",
    "            firstName.append(c);\n",
    "        }\n",
    "\n",
    "        return firstName.toString();\n",
    "    }\n",
    "\n",
    "    // Method to get the person's last name\n",
    "    public String getLastName() {\n",
    "        StringBuilder lastName = new StringBuilder();\n",
    "        boolean foundSpace = false;\n",
    "\n",
    "        // Iterate through the characters in the full name\n",
    "        for (int i = 0; i < fullName.length(); i++) {\n",
    "            char c = fullName.charAt(i);\n",
    "\n",
    "            // Start appending characters when we encounter a space\n",
    "            if (c == ' ') {\n",
    "                foundSpace = true;\n",
    "            } else if (foundSpace) {\n",
    "                lastName.append(c);\n",
    "            }\n",
    "        }\n",
    "\n",
    "        return lastName.toString();\n",
    "    }\n",
    "\n",
    "    public static void main(String[] args) {\n",
    "        PersonName person = new PersonName(\"John Doe\");\n",
    "\n",
    "        // Get and print the first name\n",
    "        String firstName = person.getFirstName();\n",
    "        System.out.println(\"First Name: \" + firstName);\n",
    "\n",
    "        // Get and print the last name\n",
    "        String lastName = person.getLastName();\n",
    "        System.out.println(\"Last Name: \" + lastName);\n",
    "    }\n",
    "}\n",
    "PersonName.main(null)"
   ]
  }
 ],
 "metadata": {
  "kernelspec": {
   "display_name": "Java",
   "language": "java",
   "name": "java"
  },
  "language_info": {
   "codemirror_mode": "java",
   "file_extension": ".jshell",
   "mimetype": "text/x-java-source",
   "name": "Java",
   "pygments_lexer": "java",
   "version": "20+36-2344"
  }
 },
 "nbformat": 4,
 "nbformat_minor": 2
}
