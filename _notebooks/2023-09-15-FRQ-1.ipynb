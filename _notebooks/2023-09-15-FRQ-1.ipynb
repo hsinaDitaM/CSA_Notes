{
 "cells": [
  {
   "cell_type": "markdown",
   "metadata": {},
   "source": [
    "---\n",
    "layout: post\n",
    "title: FRQ No.1\n",
    "description: the hacks for all of the frq 1\n",
    "toc: true\n",
    "comments: true\n",
    "courses: { csa: {week: 4} }\n",
    "type: hacks\n",
    "---"
   ]
  },
  {
   "cell_type": "markdown",
   "metadata": {},
   "source": [
    "FRQ: \n",
    "\n",
    "Question #6, 2022\n",
    "\n",
    "Write the getScore method, which returns the score for the most recently played game. Each game consists of three levels. The score for the game is computed using the following helper methods.\n",
    "- The `isBonus` method of the Game class returns true if this is a bonus game and returns false otherwise.\n",
    "- The `goalReached` method of the Level class returns true if the goal has been reached on a particular level and returns false otherwise.\n",
    "- The `getPoints` method of the Level class returns the number of points recorded on a particular level. Whether or not recorded points are earned (included in the game score) depends on the rules of the game, which follow.\n",
    "The score for the game is computed according to the following rules.\n",
    "- Level one points are earned only if the level one goal is reached. Level two points are earned only if both the level one and level two goals are reached. Level three points are earned only if the goals of all three levels are reached.\n",
    "- The score for the game is the sum of the points earned for levels one, two, and three.\n",
    "- If the game is a bonus game, the score for the game is tripled.\n",
    "\n",
    "---\n",
    "\n",
    "FRQ Response:"
   ]
  },
  {
   "cell_type": "code",
   "execution_count": 47,
   "metadata": {},
   "outputs": [
    {
     "name": "stdout",
     "output_type": "stream",
     "text": [
      "Is Bonus Game: true\n",
      "Score: 27\n"
     ]
    }
   ],
   "source": [
    "import java.util.Random;\n",
    "\n",
    "class Game {\n",
    "    private boolean isBonus;\n",
    "    private Level[] levels;\n",
    "\n",
    "    public Game() {\n",
    "        this.isBonus = generateRandomBonus(); // Set isBonus randomly\n",
    "        levels = new Level[3]; // Assuming there are 3 levels\n",
    "    }\n",
    "\n",
    "    public void addLevel(Level level, int levelNum) {\n",
    "        levels[levelNum - 1] = level;\n",
    "    }\n",
    "\n",
    "    public int calculateScore() {\n",
    "        int score = 0;\n",
    "        \n",
    "        if (levels[0] != null && levels[0].isGoalReached()) {\n",
    "            score += levels[0].getPoints();\n",
    "        }\n",
    "        \n",
    "        if (levels[1] != null && levels[1].isGoalReached() && levels[0] != null && levels[0].isGoalReached()) {\n",
    "            score += levels[1].getPoints();\n",
    "        }\n",
    "        \n",
    "        if (levels[2] != null && levels[2].isGoalReached() && levels[1] != null && levels[1].isGoalReached() && levels[0] != null && levels[0].isGoalReached()) {\n",
    "            score += levels[2].getPoints();\n",
    "        }\n",
    "        \n",
    "        if (isBonus) {\n",
    "            score *= 3;\n",
    "        }\n",
    "\n",
    "        return score;\n",
    "    }\n",
    "\n",
    "    // Generate a random boolean for isBonus\n",
    "    private boolean generateRandomBonus() {\n",
    "        Random random = new Random();\n",
    "        return random.nextBoolean();\n",
    "    }\n",
    "\n",
    "    // Getter method for isBonus\n",
    "    public boolean isBonus() {\n",
    "        return isBonus;\n",
    "    }\n",
    "}\n",
    "\n",
    "public class Main {\n",
    "    public static void main(String[] args) {\n",
    "        Level level1 = new Level(1, true, 3);\n",
    "        Level level2 = new Level(2, true, 4);\n",
    "        Level level3 = new Level(3, true, 2);\n",
    "\n",
    "        Game game = new Game(); // isBonus will be set randomly\n",
    "        game.addLevel(level1, 1);\n",
    "        game.addLevel(level2, 2);\n",
    "        game.addLevel(level3, 3);\n",
    "\n",
    "        int score = game.calculateScore();\n",
    "        System.out.println(\"Is Bonus Game: \" + game.isBonus());\n",
    "        System.out.println(\"Score: \" + score);\n",
    "    }\n",
    "}\n",
    "Main.main(null);\n"
   ]
  },
  {
   "cell_type": "markdown",
   "metadata": {},
   "source": [
    "## Grading:\n",
    "I took very similar steps to the the frq question answer. the key difference is that collegeboard wrote their code with their less verbose code and i wrote mine in java with is a more complex language. I also used the variable names that collegeboard wanted me to use. if was a collegeboard grader, what a boring job, I would give 4/4 because I followed similarly to what collegeboard wanted. \n",
    "\n",
    "## Reflection:\n",
    "the first time that i represented the frq to the crossover team, my code didn't run and i had to resort to python, but now i can assure you that this java codes as well as a well fed horse. To be honest, chatgpt helped me to write at least half of this code, but i understand the logic and the process and how the code should be. the things i need to improve my knowledge on is java because if i don't learn it properly now, it will be difficult for me in future when i have to write bigger and code heavy projects. overall, i am happy that i was able to solve this frq in java and present it clearly to my crossover team. \n",
    "\n",
    "\n",
    "\n"
   ]
  }
 ],
 "metadata": {
  "kernelspec": {
   "display_name": "Java",
   "language": "java",
   "name": "java"
  },
  "language_info": {
   "codemirror_mode": "java",
   "file_extension": ".jshell",
   "mimetype": "text/x-java-source",
   "name": "java",
   "pygments_lexer": "java",
   "version": "20+36-2344"
  }
 },
 "nbformat": 4,
 "nbformat_minor": 2
}
