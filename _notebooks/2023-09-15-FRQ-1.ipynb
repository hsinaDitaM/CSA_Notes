{
 "cells": [
  {
   "cell_type": "markdown",
   "metadata": {},
   "source": [
    "---\n",
    "layout: post\n",
    "title: FRQ No.1\n",
    "description: the hacks for all of the frq 1\n",
    "toc: true\n",
    "comments: true\n",
    "courses: { csa: {week: 4} }\n",
    "type: hacks\n",
    "---"
   ]
  },
  {
   "cell_type": "markdown",
   "metadata": {},
   "source": [
    "# method and control structures example: "
   ]
  },
  {
   "cell_type": "code",
   "execution_count": 17,
   "metadata": {
    "vscode": {
     "languageId": "java"
    }
   },
   "outputs": [
    {
     "name": "stdout",
     "output_type": "stream",
     "text": [
      "Hello, World!\n"
     ]
    }
   ],
   "source": [
    "public class HelloWorldDemo {\n",
    "\n",
    "    // ethod to print the message\n",
    "    public static void printHelloWorld() {\n",
    "        System.out.println(\"Hello, World!\");\n",
    "    }\n",
    "\n",
    "    public static void main(String[] args) {\n",
    "        // control structure (if-else) to decide whether to print the message\n",
    "        boolean shouldPrint = true;\n",
    "\n",
    "        if (shouldPrint) {\n",
    "            // call the method to print the message\n",
    "            printHelloWorld();\n",
    "        } else {\n",
    "            System.out.println(\"Message not printed.\");\n",
    "        }\n",
    "    }\n",
    "}\n",
    "HelloWorldDemo.main(null)\n"
   ]
  },
  {
   "cell_type": "markdown",
   "metadata": {},
   "source": [
    "FRQ answer: \n",
    "\n",
    "Question #6\n",
    "\n",
    "(a) Write the getScore method, which returns the score for the most recently played game. Each game consists of three levels. The score for the game is computed using the following helper methods.\n",
    "- The `isBonus` method of the Game class returns true if this is a bonus game and returns false otherwise.\n",
    "- The goalReached method of the Level class returns true if the goal has been reached on a particular level and returns false otherwise.\n",
    "- The getPoints method of the Level class returns the number of points recorded on a particular level. Whether or not recorded points are earned (included in the game score) depends on the rules of the game, which follow.\n",
    "The score for the game is computed according to the following rules.\n",
    "- Level one points are earned only if the level one goal is reached. Level two points are earned only if both the level one and level two goals are reached. Level three points are earned only if the goals of all three levels are reached.\n",
    "- The score for the game is the sum of the points earned for levels one, two, and three.\n",
    "- If the game is a bonus game, the score for the game is tripled."
   ]
  },
  {
   "cell_type": "code",
   "execution_count": null,
   "metadata": {
    "vscode": {
     "languageId": "java"
    }
   },
   "outputs": [],
   "source": [
    "public class Game {\n",
    "    private boolean isBonus;\n",
    "    private Level[] levels;\n",
    "\n",
    "    // Constructor and other methods for the Game class go here...\n",
    "\n",
    "    public int getScore() {\n",
    "        int totalScore = 0;\n",
    "\n",
    "        // Iterate through the levels\n",
    "        for (int i = 0; i < levels.length; i++) {\n",
    "            Level level = levels[i];\n",
    "\n",
    "            // Check if the goal is reached for this level\n",
    "            if (level.goalReached()) {\n",
    "                // Check if it's a bonus game\n",
    "                if (isBonus) {\n",
    "                    // Triple the points for this level\n",
    "                    totalScore += 3 * level.getPoints();\n",
    "                } else {\n",
    "                    // For non-bonus games, add points based on the level\n",
    "                    if (i == 0) {\n",
    "                        // Level one points\n",
    "                        totalScore += level.getPoints();\n",
    "                    } else if (i == 1 && levels[0].goalReached()) {\n",
    "                        // Level two points if level one goal is reached\n",
    "                        totalScore += level.getPoints();\n",
    "                    } else if (i == 2 && levels[0].goalReached() && levels[1].goalReached()) {\n",
    "                        // Level three points if all goals are reached\n",
    "                        totalScore += level.getPoints();\n",
    "                    }\n",
    "                }\n",
    "            }\n",
    "        }\n",
    "\n",
    "        return totalScore;\n",
    "    }\n",
    "}\n",
    "\n",
    "public class Level {\n",
    "    private int points;\n",
    "    private boolean goalReached;\n",
    "\n",
    "    // Constructor for the Level class\n",
    "    public Level(int points, boolean goalReached) {\n",
    "        this.points = points;\n",
    "        this.goalReached = goalReached;\n",
    "    }\n",
    "\n",
    "    // Getter method for points\n",
    "    public int getPoints() {\n",
    "        return points;\n",
    "    }\n",
    "\n",
    "    // Setter method for points\n",
    "    public void setPoints(int points) {\n",
    "        this.points = points;\n",
    "    }\n",
    "\n",
    "    // Getter method for goalReached\n",
    "    public boolean isGoalReached() {\n",
    "        return goalReached;\n",
    "    }\n",
    "\n",
    "    // Setter method for goalReached\n",
    "    public void setGoalReached(boolean goalReached) {\n",
    "        this.goalReached = goalReached;\n",
    "    }\n",
    "\n",
    "}\n",
    "\n"
   ]
  }
 ],
 "metadata": {
  "kernelspec": {
   "display_name": "Java",
   "language": "java",
   "name": "java"
  },
  "language_info": {
   "codemirror_mode": "java",
   "file_extension": ".jshell",
   "mimetype": "text/x-java-source",
   "name": "Java",
   "pygments_lexer": "java",
   "version": "20+36-2344"
  },
  "orig_nbformat": 4
 },
 "nbformat": 4,
 "nbformat_minor": 2
}
