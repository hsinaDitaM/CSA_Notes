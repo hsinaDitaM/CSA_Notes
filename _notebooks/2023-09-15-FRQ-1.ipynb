{
 "cells": [
  {
   "cell_type": "markdown",
   "metadata": {},
   "source": [
    "---\n",
    "layout: post\n",
    "title: FRQ No.1\n",
    "description: the hacks for all of the frq 1\n",
    "toc: true\n",
    "comments: true\n",
    "courses: { csa: {week: 4} }\n",
    "type: hacks\n",
    "---"
   ]
  },
  {
   "cell_type": "markdown",
   "metadata": {},
   "source": [
    "# method and control structures example: "
   ]
  },
  {
   "cell_type": "code",
   "execution_count": 17,
   "metadata": {},
   "outputs": [
    {
     "name": "stdout",
     "output_type": "stream",
     "text": [
      "Hello, World!\n"
     ]
    }
   ],
   "source": [
    "public class HelloWorldDemo {\n",
    "\n",
    "    // ethod to print the message\n",
    "    public static void printHelloWorld() {\n",
    "        System.out.println(\"Hello, World!\");\n",
    "    }\n",
    "\n",
    "    public static void main(String[] args) {\n",
    "        // control structure (if-else) to decide whether to print the message\n",
    "        boolean shouldPrint = true;\n",
    "\n",
    "        if (shouldPrint) {\n",
    "            // call the method to print the message\n",
    "            printHelloWorld();\n",
    "        } else {\n",
    "            System.out.println(\"Message not printed.\");\n",
    "        }\n",
    "    }\n",
    "}\n",
    "HelloWorldDemo.main(null)\n"
   ]
  }
 ],
 "metadata": {
  "kernelspec": {
   "display_name": "Java",
   "language": "java",
   "name": "java"
  },
  "language_info": {
   "codemirror_mode": "java",
   "file_extension": ".jshell",
   "mimetype": "text/x-java-source",
   "name": "java",
   "pygments_lexer": "java",
   "version": "20+36-2344"
  },
  "orig_nbformat": 4
 },
 "nbformat": 4,
 "nbformat_minor": 2
}
