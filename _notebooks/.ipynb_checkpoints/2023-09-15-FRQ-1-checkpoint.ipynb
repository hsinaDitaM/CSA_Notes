{
 "cells": [
  {
   "cell_type": "markdown",
   "metadata": {},
   "source": [
    "---\n",
    "layout: post\n",
    "title: FRQ No.1\n",
    "description: the hacks for all of the frq 1\n",
    "toc: true\n",
    "comments: true\n",
    "courses: { csa: {week: 4} }\n",
    "type: hacks\n",
    "---"
   ]
  },
  {
   "cell_type": "markdown",
   "metadata": {},
   "source": [
    "# method and control structures example: "
   ]
  },
  {
   "cell_type": "code",
   "execution_count": 17,
   "metadata": {
    "vscode": {
     "languageId": "java"
    }
   },
   "outputs": [
    {
     "name": "stdout",
     "output_type": "stream",
     "text": [
      "Hello, World!\n"
     ]
    }
   ],
   "source": [
    "public class HelloWorldDemo {\n",
    "\n",
    "    // ethod to print the message\n",
    "    public static void printHelloWorld() {\n",
    "        System.out.println(\"Hello, World!\");\n",
    "    }\n",
    "\n",
    "    public static void main(String[] args) {\n",
    "        // control structure (if-else) to decide whether to print the message\n",
    "        boolean shouldPrint = true;\n",
    "\n",
    "        if (shouldPrint) {\n",
    "            // call the method to print the message\n",
    "            printHelloWorld();\n",
    "        } else {\n",
    "            System.out.println(\"Message not printed.\");\n",
    "        }\n",
    "    }\n",
    "}\n",
    "HelloWorldDemo.main(null)\n"
   ]
  },
  {
   "cell_type": "markdown",
   "metadata": {},
   "source": [
    "FRQ: \n",
    "\n",
    "Question #6\n",
    "\n",
    "(a) Write the getScore method, which returns the score for the most recently played game. Each game consists of three levels. The score for the game is computed using the following helper methods.\n",
    "- The `isBonus` method of the Game class returns true if this is a bonus game and returns false otherwise.\n",
    "- The goalReached method of the Level class returns true if the goal has been reached on a particular level and returns false otherwise.\n",
    "- The getPoints method of the Level class returns the number of points recorded on a particular level. Whether or not recorded points are earned (included in the game score) depends on the rules of the game, which follow.\n",
    "The score for the game is computed according to the following rules.\n",
    "- Level one points are earned only if the level one goal is reached. Level two points are earned only if both the level one and level two goals are reached. Level three points are earned only if the goals of all three levels are reached.\n",
    "- The score for the game is the sum of the points earned for levels one, two, and three.\n",
    "- If the game is a bonus game, the score for the game is tripled.\n",
    "---\n",
    "\n",
    "FRQ Response:"
   ]
  },
  {
   "cell_type": "code",
   "execution_count": 1,
   "metadata": {
    "vscode": {
     "languageId": "java"
    }
   },
   "outputs": [],
   "source": [
    "import javax.swing.*;\n",
    "import java.awt.*;\n",
    "import java.awt.event.ActionEvent;\n",
    "import java.awt.event.ActionListener;\n",
    "\n",
    "class Level {\n",
    "    private boolean goalReached;\n",
    "    private int points;\n",
    "\n",
    "    public Level(boolean goalReached, int points) {\n",
    "        this.goalReached = goalReached;\n",
    "        this.points = points;\n",
    "    }\n",
    "\n",
    "    public boolean isGoalReached() {\n",
    "        return goalReached;\n",
    "    }\n",
    "\n",
    "    public int getPoints() {\n",
    "        return points;\n",
    "    }\n",
    "}\n",
    "\n",
    "class Game {\n",
    "    private Level[] levels;\n",
    "    private boolean isBonus;\n",
    "\n",
    "    public Game(Level[] levels, boolean isBonus) {\n",
    "        this.levels = levels;\n",
    "        this.isBonus = isBonus;\n",
    "    }\n",
    "\n",
    "    public int getScore() {\n",
    "        int totalScore = 0;\n",
    "        for (Level level : levels) {\n",
    "            if (level.isGoalReached()) {\n",
    "                totalScore += level.getPoints();\n",
    "            }\n",
    "        }\n",
    "        if (isBonus) {\n",
    "            totalScore *= 3;\n",
    "        }\n",
    "        return totalScore;\n",
    "    }\n",
    "\n",
    "    public void addLevel(Level level) {\n",
    "        if (level != null && levels.length < 3) {\n",
    "            levels[levels.length] = level;\n",
    "        }\n",
    "    }\n",
    "}\n",
    "\n",
    "public class GameGUI extends JFrame implements ActionListener {\n",
    "    private Game game;\n",
    "    private int currentLevel;\n",
    "    private JLabel scoreLabel;\n",
    "    private JButton goalReachedButton;\n",
    "    private JButton nextLevelButton;\n",
    "\n",
    "    public GameGUI() {\n",
    "        Level[] levels = new Level[3]; // Create an array of three levels initially.\n",
    "        game = new Game(levels, true);\n",
    "        currentLevel = 0;\n",
    "\n",
    "        setTitle(\"Simple Game\");\n",
    "        setSize(400, 200);\n",
    "        setDefaultCloseOperation(JFrame.EXIT_ON_CLOSE);\n",
    "        setLayout(new BorderLayout());\n",
    "\n",
    "        scoreLabel = new JLabel(\"Score: 0\", JLabel.CENTER);\n",
    "        add(scoreLabel, BorderLayout.NORTH);\n",
    "\n",
    "        goalReachedButton = new JButton(\"Goal Reached\");\n",
    "        goalReachedButton.addActionListener(this);\n",
    "        add(goalReachedButton, BorderLayout.CENTER);\n",
    "\n",
    "        nextLevelButton = new JButton(\"Next Level\");\n",
    "        nextLevelButton.addActionListener(this);\n",
    "        nextLevelButton.setEnabled(false);\n",
    "        add(nextLevelButton, BorderLayout.SOUTH);\n",
    "\n",
    "        setVisible(true);\n",
    "    }\n",
    "\n",
    "    @Override\n",
    "    public void actionPerformed(ActionEvent e) {\n",
    "        if (e.getSource() == goalReachedButton) {\n",
    "            Level level = new Level(true, (currentLevel + 1) * 100);\n",
    "            game.addLevel(level);\n",
    "\n",
    "            scoreLabel.setText(\"Score: \" + game.getScore());\n",
    "            goalReachedButton.setEnabled(false);\n",
    "            nextLevelButton.setEnabled(true);\n",
    "        } else if (e.getSource() == nextLevelButton) {\n",
    "            currentLevel++;\n",
    "\n",
    "            if (currentLevel < 3) {\n",
    "                goalReachedButton.setEnabled(true);\n",
    "                nextLevelButton.setEnabled(false);\n",
    "            } else {\n",
    "                JOptionPane.showMessageDialog(this, \"Game Over! Your final score is: \" + game.getScore());\n",
    "                System.exit(0);\n",
    "            }\n",
    "        }\n",
    "    }\n",
    "\n",
    "    public static void main(String[] args) {\n",
    "        SwingUtilities.invokeLater(() -> new GameGUI());\n",
    "    }\n",
    "}\n"
   ]
  },
  {
   "cell_type": "code",
   "execution_count": null,
   "metadata": {},
   "outputs": [],
   "source": []
  },
  {
   "cell_type": "code",
   "execution_count": null,
   "metadata": {},
   "outputs": [],
   "source": []
  }
 ],
 "metadata": {
  "kernelspec": {
   "display_name": "Java",
   "language": "java",
   "name": "java"
  },
  "language_info": {
   "codemirror_mode": "java",
   "file_extension": ".jshell",
   "mimetype": "text/x-java-source",
   "name": "Java",
   "pygments_lexer": "java",
   "version": "20+36-2344"
  }
 },
 "nbformat": 4,
 "nbformat_minor": 2
}
