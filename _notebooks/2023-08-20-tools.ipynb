{
 "cells": [
  {
   "cell_type": "markdown",
   "metadata": {},
   "source": [
    "---\n",
    "toc: true\n",
    "comments: true\n",
    "layout: post\n",
    "title: Tool Check\n",
    "description: ThIs blog is where I keep track if I have the tools necessary for CSA installed. \n",
    "courses: { csa: {week: 0} }\n",
    "type: hacks\n",
    "---"
   ]
  },
  {
   "cell_type": "markdown",
   "metadata": {},
   "source": [
    "1. A Laptop: ✅\n",
    "2. GIthub Account: hsInadItaM ✅\n",
    "3. VScode: ✅\n",
    "4. GIthub Pages: You are lookIng at It ✅\n",
    "5. Notebooks: ThIs blogs uses Jupyter Notebooks ✅\n",
    "6. Slack Account / App: ✅\n",
    "7. WSL: ❌, on macos\n",
    "8. Docker: ✅\n",
    "9. Anaconda: ✅\n",
    "\n",
    "\n",
    "## Hacks:\n",
    "\n",
    "ThIs Is the reason why I love my tools. If I did not have my tools, it would make my life a lot harder. If I did not have my tools, then that means I would not have vscode. If I did not have my tools, that that means that I couldn't work on my latest passion project. If I did not have my tools, then that means I couldn't watch youtube. If I did not have my tools, then that means that I couldn't commit my work to github and keep It safe. If I did not have my tools, you wouldn't be able to read this amazing paragraph. If I dId not have my tools, then that means that I could not write thIs. If I did not have my tools, then that will mean that I couldn't be caught up to the latest announcements. If I did not have my tools, never mInd, I can live wIthout wsl. If I did not have my tools, then I could not check my work in real time Instead of committing the same error over and over again. If I did not have my tools, I would be pulling out my hair. \n"
   ]
  }
 ],
 "metadata": {
  "language_info": {
   "name": "python"
  },
  "orig_nbformat": 4
 },
 "nbformat": 4,
 "nbformat_minor": 2
}
