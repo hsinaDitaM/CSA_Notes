{
 "cells": [
  {
   "cell_type": "markdown",
   "metadata": {},
   "source": [
    "---\n",
    "title: Tri 2 FRQ 3 finals\n",
    "toc: true\n",
    "layout: post\n",
    "comments: true\n",
    "courses: { csa: {week: 24} }\n",
    "---"
   ]
  },
  {
   "cell_type": "markdown",
   "metadata": {},
   "source": [
    "----\n",
    "\n",
    "# 3\n",
    "![Assignment name: 2015 Practice Exam FRQ: Question 3: Part a: getValueAt](https://github.com/CoolCodingPeople/place/assets/111465192/6cdac087-5071-4140-86fc-ebb24fa27a2c)\n",
    "## a. \n",
    "### Answer:\n",
    "```java\n",
    "public int getValueAt(int row, int col) {\n",
    "    for (SparseArrayEntry entry : entries) {\n",
    "        if (entry.getRow() == row && entry.getCol() == col) {\n",
    "            return entry.getValue();\n",
    "        }\n",
    "    }\n",
    "    return 0;  // return 0 if no entry found at the specified row and column\n",
    "}\n",
    "\n",
    "\n",
    "```\n",
    "\n",
    "## b. \n",
    "\n",
    "```java\n",
    "public void removeColumn(int col) {\n",
    "    // create an iterator for the 'entries' collection\n",
    "    Iterator<SparseArrayEntry> iterator = entries.iterator();\n",
    "\n",
    "    // iterate over each entry in the 'entries' collection\n",
    "    while (iterator.hasNext()) {\n",
    "        // get the current entry\n",
    "        SparseArrayEntry entry = iterator.next();\n",
    "\n",
    "        // if the column of the current entry matches the column to be removed\n",
    "        if (entry.getCol() == col) {\n",
    "            iterator.remove();\n",
    "        } \n",
    "        // if the column of the current entry is greater than the column to be removed\n",
    "        else if (entry.getCol() > col) {\n",
    "            // create a new entry with the same row and value as the current entry,\n",
    "            // but with the column decremented by 1\n",
    "            int newRow = entry.getRow();\n",
    "            int newCol = entry.getCol() - 1;\n",
    "            int newValue = entry.getValue();\n",
    "\n",
    "            iterator.remove();\n",
    "\n",
    "            // add the new entry to the 'entries' collection\n",
    "            entries.add(new SparseArrayEntry(newRow, newCol, newValue));\n",
    "        }\n",
    "    }\n",
    "\n",
    "    numCols--;\n",
    "}\n",
    "\n",
    "```\n"
   ]
  }
 ],
 "metadata": {
  "language_info": {
   "name": "python"
  }
 },
 "nbformat": 4,
 "nbformat_minor": 2
}
