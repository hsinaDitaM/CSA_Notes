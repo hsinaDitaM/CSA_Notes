{
 "cells": [
  {
   "cell_type": "markdown",
   "metadata": {},
   "source": [
    "---\n",
    "toc: true\n",
    "comments: true\n",
    "layout: post\n",
    "title: Java Hello\n",
    "description: ThIs blog is where I keep track if I have the tools necessary for CSA installed. \n",
    "courses: { csa: {week: 1} }\n",
    "type: hacks\n",
    "---"
   ]
  },
  {
   "cell_type": "markdown",
   "metadata": {},
   "source": [
    "## Explain Anatomy of a Class in comments of program (Diagram key parts of the class):"
   ]
  },
  {
   "cell_type": "code",
   "execution_count": 2,
   "metadata": {
    "vscode": {
     "languageId": "java"
    }
   },
   "outputs": [
    {
     "name": "stdout",
     "output_type": "stream",
     "text": [
      "Hello, World!\n",
      "Hello, Nighthawk Coding Society!\n"
     ]
    }
   ],
   "source": [
    "public class HelloDynamic {\n",
    "    // Instance variable to hold the greeting message\n",
    "    private String hello;\n",
    "\n",
    "    // Constructor with no arguments\n",
    "    public HelloDynamic() {\n",
    "        this.setHello(\"Hello, World!\");\n",
    "    }\n",
    "\n",
    "    // Constructor with a greeting message argument\n",
    "    public HelloDynamic(String hello) {\n",
    "        this.setHello(hello);\n",
    "    }\n",
    "\n",
    "    // Setter method to set the greeting message\n",
    "    public void setHello(String hello) {\n",
    "        this.hello = hello;\n",
    "    }\n",
    "\n",
    "    // Getter method to retrieve the greeting message\n",
    "    public String getHello() {\n",
    "        return this.hello;\n",
    "    }\n",
    "\n",
    "    // Main method, entry point of the program\n",
    "    public static void main(String[] args) {\n",
    "        // Creating instances of HelloDynamic using different constructors\n",
    "        HelloDynamic hd1 = new HelloDynamic(); // Using the no argument constructor\n",
    "        HelloDynamic hd2 = new HelloDynamic(\"Hello, Nighthawk Coding Society!\"); // Using the one argument constructor\n",
    "\n",
    "        // Displaying the greeting messages of the instances\n",
    "        System.out.println(hd1.getHello());\n",
    "        System.out.println(hd2.getHello());\n",
    "    }\n",
    "}\n",
    "\n",
    "// Activating the main method\n",
    "HelloDynamic.main(null);\n"
   ]
  },
  {
   "cell_type": "markdown",
   "metadata": {},
   "source": [
    "## Comment in code where there is a definition of a Class and an instance of a Class (ie object)\n"
   ]
  },
  {
   "cell_type": "code",
   "execution_count": 1,
   "metadata": {
    "vscode": {
     "languageId": "java"
    }
   },
   "outputs": [
    {
     "name": "stdout",
     "output_type": "stream",
     "text": [
      "Hello, World!\n",
      "Hello, Nighthawk Coding Society!\n"
     ]
    }
   ],
   "source": [
    "public class HelloDynamic {\n",
    "    private String hello;\n",
    "\n",
    "    public HelloDynamic() {\n",
    "        this.setHello(\"Hello, World!\");\n",
    "    }\n",
    "\n",
    "    public HelloDynamic(String hello) {\n",
    "        this.setHello(hello);\n",
    "    }\n",
    "\n",
    "    public void setHello(String hello) {\n",
    "        this.hello = hello;\n",
    "    }\n",
    "\n",
    "    public String getHello() {\n",
    "        return this.hello;\n",
    "    }\n",
    "\n",
    "    public static void main(String[] args) {\n",
    "        // Creating an instance of HelloDynamic using the no argument constructor\n",
    "        HelloDynamic hd1 = new HelloDynamic();\n",
    "\n",
    "        // Creating an instance of HelloDynamic using the one argument constructor\n",
    "        HelloDynamic hd2 = new HelloDynamic(\"Hello, Nighthawk Coding Society!\");\n",
    "\n",
    "        // Displaying the greeting messages of the instances\n",
    "        System.out.println(hd1.getHello());\n",
    "        System.out.println(hd2.getHello());\n",
    "    }\n",
    "}\n",
    "\n",
    "// Activating the main method\n",
    "HelloDynamic.main(null);\n"
   ]
  },
  {
   "cell_type": "markdown",
   "metadata": {},
   "source": [
    "## Comment in code where there are constructors and highlight the signature difference in the signature:"
   ]
  },
  {
   "cell_type": "code",
   "execution_count": 3,
   "metadata": {
    "vscode": {
     "languageId": "java"
    }
   },
   "outputs": [
    {
     "name": "stdout",
     "output_type": "stream",
     "text": [
      "Hello, World!\n",
      "Hello, Nighthawk Coding Society!\n"
     ]
    }
   ],
   "source": [
    "public class HelloDynamic {\n",
    "    private String hello;\n",
    "\n",
    "    // Constructor with no arguments\n",
    "    public HelloDynamic() {\n",
    "        this.setHello(\"Hello, World!\");\n",
    "    }\n",
    "\n",
    "    // Constructor with a greeting message argument\n",
    "    public HelloDynamic(String hello) {\n",
    "        this.setHello(hello);\n",
    "    }\n",
    "\n",
    "    public void setHello(String hello) {\n",
    "        this.hello = hello;\n",
    "    }\n",
    "\n",
    "    public String getHello() {\n",
    "        return this.hello;\n",
    "    }\n",
    "\n",
    "    public static void main(String[] args) {\n",
    "        // Creating an instance of HelloDynamic using the no argument constructor\n",
    "        HelloDynamic hd1 = new HelloDynamic();\n",
    "\n",
    "        // Creating an instance of HelloDynamic using the one argument constructor\n",
    "        HelloDynamic hd2 = new HelloDynamic(\"Hello, Nighthawk Coding Society!\");\n",
    "\n",
    "        // Displaying the greeting messages of the instances\n",
    "        System.out.println(hd1.getHello());\n",
    "        System.out.println(hd2.getHello());\n",
    "    }\n",
    "}\n",
    "\n",
    "// Activating the main method\n",
    "HelloDynamic.main(null);\n"
   ]
  },
  {
   "cell_type": "code",
   "execution_count": 4,
   "metadata": {
    "vscode": {
     "languageId": "java"
    }
   },
   "outputs": [
    {
     "name": "stdout",
     "output_type": "stream",
     "text": [
      "Hello, World!\n",
      "Hello, Nighthawk Coding Society!\n"
     ]
    }
   ],
   "source": [
    "public class HelloDynamic {\n",
    "    private String hello;\n",
    "\n",
    "    // Constructor with no arguments\n",
    "    public HelloDynamic() {\n",
    "        this.setHello(\"Hello, World!\");\n",
    "    }\n",
    "\n",
    "    // Constructor with a greeting message argument\n",
    "    public HelloDynamic(String hello) {\n",
    "        this.setHello(hello);\n",
    "    }\n",
    "\n",
    "    public void setHello(String hello) {\n",
    "        this.hello = hello;\n",
    "    }\n",
    "\n",
    "    public String getHello() {\n",
    "        return this.hello;\n",
    "    }\n",
    "\n",
    "    public static void main(String[] args) {\n",
    "        // Creating an instance of HelloDynamic using the no argument constructor\n",
    "        HelloDynamic hd1 = new HelloDynamic();\n",
    "\n",
    "        // Creating an instance of HelloDynamic using the one argument constructor\n",
    "        HelloDynamic hd2 = new HelloDynamic(\"Hello, Nighthawk Coding Society!\");\n",
    "\n",
    "        // Displaying the greeting messages of the instances\n",
    "        System.out.println(hd1.getHello());\n",
    "        System.out.println(hd2.getHello());\n",
    "    }\n",
    "}\n",
    "\n",
    "// Activating the main method\n",
    "HelloDynamic.main(null);\n"
   ]
  },
  {
   "cell_type": "markdown",
   "metadata": {},
   "source": [
    "##  Create a static void main tester method to generate objects of the class."
   ]
  },
  {
   "cell_type": "code",
   "execution_count": 1,
   "metadata": {
    "vscode": {
     "languageId": "java"
    }
   },
   "outputs": [],
   "source": [
    "// Define the Student class\n",
    "class Student {\n",
    "    String name;\n",
    "    int age;\n",
    "\n",
    "    // Constructor\n",
    "    public Student(String name, int age) {\n",
    "        this.name = name;\n",
    "        this.age = age;\n",
    "    }\n",
    "\n",
    "    // Method to display student information\n",
    "    public void displayInfo() {\n",
    "        System.out.println(\"Name: \" + name);\n",
    "        System.out.println(\"Age: \" + age);\n",
    "    }\n",
    "}\n",
    "\n",
    "public class Main {\n",
    "    public static void main(String[] args) {\n",
    "        // Creating objects of the Student class using the constructor\n",
    "        Student student1 = new Student(\"Alice\", 20);\n",
    "        Student student2 = new Student(\"Bob\", 22);\n",
    "\n",
    "        // Calling the displayInfo method to show student information\n",
    "        System.out.println(\"Student 1:\");\n",
    "        student1.displayInfo();\n",
    "        \n",
    "        System.out.println(\"\\nStudent 2:\");\n",
    "        student2.displayInfo();\n",
    "    }\n",
    "}\n"
   ]
  },
  {
   "cell_type": "markdown",
   "metadata": {},
   "source": [
    "## Go through progression of understanding a Static Class. Build a purposeful static Class, no Objects."
   ]
  },
  {
   "cell_type": "code",
   "execution_count": 2,
   "metadata": {
    "vscode": {
     "languageId": "java"
    }
   },
   "outputs": [],
   "source": [
    "public class MathHelper {\n",
    "    // Private constructor to prevent instantiation\n",
    "    private MathHelper() {\n",
    "        // Empty private constructor\n",
    "    }\n",
    "    \n",
    "    // Static method to calculate the square of a number\n",
    "    public static double square(double num) {\n",
    "        return num * num;\n",
    "    }\n",
    "    \n",
    "    // Static method to calculate the cube of a number\n",
    "    public static double cube(double num) {\n",
    "        return num * num * num;\n",
    "    }\n",
    "    \n",
    "    // Static method to calculate the factorial of a positive integer\n",
    "    public static int factorial(int n) {\n",
    "        if (n < 0) {\n",
    "            throw new IllegalArgumentException(\"Factorial is not defined for negative numbers\");\n",
    "        }\n",
    "        if (n == 0 || n == 1) {\n",
    "            return 1;\n",
    "        }\n",
    "        int result = 1;\n",
    "        for (int i = 2; i <= n; i++) {\n",
    "            result *= i;\n",
    "        }\n",
    "        return result;\n",
    "    }\n",
    "}\n"
   ]
  },
  {
   "cell_type": "markdown",
   "metadata": {},
   "source": [
    "### Calculate common operations on a Date field, age since date, older of two dates, number of seconds since date"
   ]
  },
  {
   "cell_type": "code",
   "execution_count": 3,
   "metadata": {
    "vscode": {
     "languageId": "java"
    }
   },
   "outputs": [],
   "source": [
    "import java.util.Date;\n",
    "\n",
    "public class DateUtils {\n",
    "    // Private constructor to prevent instantiation\n",
    "    private DateUtils() {\n",
    "        // Empty private constructor\n",
    "    }\n",
    "    \n",
    "    // Calculate age since a given date\n",
    "    public static int calculateAge(Date birthDate) {\n",
    "        Date currentDate = new Date();\n",
    "        long diffInMillis = currentDate.getTime() - birthDate.getTime();\n",
    "        long ageInMillis = diffInMillis;\n",
    "        \n",
    "        return (int) (ageInMillis / (1000L * 60 * 60 * 24 * 365)); // Approximation\n",
    "    }\n",
    "    \n",
    "    // Find the older of two dates\n",
    "    public static Date findOlderDate(Date date1, Date date2) {\n",
    "        return date1.before(date2) ? date1 : date2;\n",
    "    }\n",
    "    \n",
    "    // Calculate the number of seconds since a given date\n",
    "    public static long calculateSecondsSince(Date startDate) {\n",
    "        Date currentDate = new Date();\n",
    "        long diffInMillis = currentDate.getTime() - startDate.getTime();\n",
    "        return diffInMillis / 1000L;\n",
    "    }\n",
    "    \n",
    "    public static void main(String[] args) {\n",
    "        // Example usage\n",
    "        Date birthDate = new Date(95, 0, 1); // January 1, 1995\n",
    "        System.out.println(\"Age: \" + calculateAge(birthDate) + \" years\");\n",
    "\n",
    "        Date date1 = new Date(121, 5, 15); // June 15, 2021\n",
    "        Date date2 = new Date(120, 8, 20); // September 20, 2020\n",
    "        System.out.println(\"Older date: \" + findOlderDate(date1, date2));\n",
    "\n",
    "        Date startDate = new Date(122, 1, 1); // February 1, 2022\n",
    "        System.out.println(\"Seconds since start date: \" + calculateSecondsSince(startDate) + \" seconds\");\n",
    "    }\n",
    "}\n"
   ]
  },
  {
   "cell_type": "markdown",
   "metadata": {},
   "source": [
    "### Calculate stats functions on an array of values: mean, median, mode."
   ]
  },
  {
   "cell_type": "code",
   "execution_count": null,
   "metadata": {
    "vscode": {
     "languageId": "java"
    }
   },
   "outputs": [],
   "source": [
    "import java.util.*;\n",
    "\n",
    "public class StatisticsUtils {\n",
    "    // Private constructor to prevent instantiation\n",
    "    private StatisticsUtils() {\n",
    "        // Empty private constructor\n",
    "    }\n",
    "\n",
    "    // Calculate the mean of an array of values\n",
    "    public static double calculateMean(double[] values) {\n",
    "        double sum = 0;\n",
    "        for (double value : values) {\n",
    "            sum += value;\n",
    "        }\n",
    "        return sum / values.length;\n",
    "    }\n",
    "\n",
    "    // Calculate the median of an array of values\n",
    "    public static double calculateMedian(double[] values) {\n",
    "        Arrays.sort(values);\n",
    "        int length = values.length;\n",
    "        \n",
    "        if (length % 2 == 0) {\n",
    "            int middleIndex = length / 2;\n",
    "            return (values[middleIndex - 1] + values[middleIndex]) / 2.0;\n",
    "        } else {\n",
    "            return values[length / 2];\n",
    "        }\n",
    "    }\n",
    "\n",
    "    // Calculate the mode of an array of values\n",
    "    public static double calculateMode(double[] values) {\n",
    "        Map<Double, Integer> frequencyMap = new HashMap<>();\n",
    "        \n",
    "        for (double value : values) {\n",
    "            frequencyMap.put(value, frequencyMap.getOrDefault(value, 0) + 1);\n",
    "        }\n",
    "        \n",
    "        double mode = 0;\n",
    "        int maxFrequency = 0;\n",
    "        \n",
    "        for (Map.Entry<Double, Integer> entry : frequencyMap.entrySet()) {\n",
    "            if (entry.getValue() > maxFrequency) {\n",
    "                mode = entry.getKey();\n",
    "                maxFrequency = entry.getValue();\n",
    "            }\n",
    "        }\n",
    "        \n",
    "        return mode;\n",
    "    }\n",
    "\n",
    "    public static void main(String[] args) {\n",
    "        double[] values = { 4, 2, 8, 6, 3, 8, 10, 8 };\n",
    "        \n",
    "        System.out.println(\"Mean: \" + calculateMean(values));\n",
    "        System.out.println(\"Median: \" + calculateMedian(values));\n",
    "        System.out.println(\"Mode: \" + calculateMode(values));\n",
    "    }\n",
    "}\n"
   ]
  }
 ],
 "metadata": {
  "kernelspec": {
   "display_name": "Java",
   "language": "java",
   "name": "java"
  },
  "language_info": {
   "codemirror_mode": "java",
   "file_extension": ".jshell",
   "mimetype": "text/x-java-source",
   "name": "Java",
   "pygments_lexer": "java",
   "version": "20+36-2344"
  },
  "orig_nbformat": 4
 },
 "nbformat": 4,
 "nbformat_minor": 2
}
