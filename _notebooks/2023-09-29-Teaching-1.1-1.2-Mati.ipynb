{
 "cells": [
  {
   "cell_type": "markdown",
   "metadata": {},
   "source": [
    "---\n",
    "toc: true\n",
    "comments: true\n",
    "layout: post\n",
    "title: Java Console Games\n",
    "description: Java console games \n",
    "courses: { csa: {week: 5} }\n",
    "type: hacks\n",
    "---"
   ]
  },
  {
   "cell_type": "markdown",
   "metadata": {},
   "source": [
    "# SECTION 1.1\n",
    "\n",
    "## Why does java matter?\n",
    "\n",
    "one of the main reason that java is such an important language in the coding world is because it is a object-oriented-programming (OOP) language. \n",
    "\n",
    "it offers a structure that is easy to solve big problems. but i think that we all know that so lets skip to the real deal. \n",
    "\n",
    "\n",
    "## Basics of Java\n",
    "\n",
    "- Block Comments- The compiler will ignore any text between /* and */\n",
    "\n",
    "- line comments- Same as above but // ignores one line\n",
    "\n",
    "- Class Declaration - identifies the name, the start and the end of the class. <b> the class name must match the file name. (case sensitive) </b>\n",
    "\n",
    "- main Method- controls all of the action in the program. \n",
    "\n",
    "- system.out- objects that generate output to the console\n",
    "\n",
    "- system.out.print- prints what ever you out inside the ()\n",
    "\n",
    "- system.out.println- prints whatever is one the screen and moves to the next line to print out the next action. basically hits enter after it prints out. \n",
    "\n",
    "\n",
    "\n",
    "tip: add \"`<classname>.main(null)`\" at the end of your code to see the output in your jupyter notebook. "
   ]
  },
  {
   "cell_type": "markdown",
   "metadata": {},
   "source": [
    "### Example:"
   ]
  },
  {
   "cell_type": "code",
   "execution_count": 16,
   "metadata": {
    "vscode": {
     "languageId": "java"
    }
   },
   "outputs": [
    {
     "name": "stdout",
     "output_type": "stream",
     "text": [
      "Hello, World!\n",
      "Hello, World!"
     ]
    }
   ],
   "source": [
    "/* this is a\n",
    "   code block */\n",
    "\n",
    "\n",
    "// code: printing out hello world. \n",
    "\n",
    "public class greeting {\n",
    "    public static void main (String [] args) {\n",
    "\n",
    "        System.out.println(\"Hello, World!\");\n",
    "        System.out.print(\"Hello,\");\n",
    "        System.out.print(\" World!\"); \n",
    "    }\n",
    "}\n",
    "\n",
    "greeting.main(null)"
   ]
  },
  {
   "cell_type": "markdown",
   "metadata": {},
   "source": [
    "## What is a string literal?\n",
    "\n",
    "- any sequence of letters, numbers, or symbols that is put between quotes. \n",
    "- java will put out anything in the quotes, no restrictions. \n",
    "\n",
    "Examples: "
   ]
  },
  {
   "cell_type": "code",
   "execution_count": 19,
   "metadata": {
    "vscode": {
     "languageId": "java"
    }
   },
   "outputs": [
    {
     "name": "stdout",
     "output_type": "stream",
     "text": [
      "This is a string literal.\n",
      "and so are these\n",
      "1234567890\n",
      "&^&*%^$&%$#^%W#*^$%&(*^)\n"
     ]
    }
   ],
   "source": [
    "public class stingLiterals {\n",
    "    public static void main (String [] args) {\n",
    "\n",
    "        System.out.println(\"This is a string literal.\");\n",
    "        System.out.println(\"and so are these\");\n",
    "        System.out.println(\"1234567890\"); \n",
    "        System.out.println(\"&^&*%^$&%$#^%W#*^$%&(*^)\"); \n",
    "    }\n",
    "}\n",
    "\n",
    "stingLiterals.main(null)"
   ]
  },
  {
   "cell_type": "markdown",
   "metadata": {},
   "source": [
    "## ERRORS!!!!!!"
   ]
  },
  {
   "cell_type": "markdown",
   "metadata": {},
   "source": [
    "### Syntax/compiler error:\n",
    "\n",
    "- messed up syntax\n",
    "- compiler is not happy >:("
   ]
  },
  {
   "cell_type": "code",
   "execution_count": 27,
   "metadata": {
    "vscode": {
     "languageId": "java"
    }
   },
   "outputs": [
    {
     "ename": "CompilationException",
     "evalue": "",
     "output_type": "error",
     "traceback": [
      "\u001b[1m\u001b[30m|   \u001b[1m\u001b[30m        system.out.println(\"This is a syntax error.\")\u001b[0m\u001b[1m\u001b[30m\u001b[41m\u001b[0m\u001b[1m\u001b[30m\u001b[0m",
      "\u001b[1m\u001b[31m';' expected\u001b[0m",
      ""
     ]
    }
   ],
   "source": [
    "\n",
    "public class syntaxError {\n",
    "    public static void main (String [] args) {\n",
    "\n",
    "        system.out.println(\"This is a syntax error.\")\n",
    "        //uncapitalized s\n",
    "        //missing semicolon\n",
    "    }\n",
    "}\n",
    "\n",
    "syntaxError.main(null)"
   ]
  },
  {
   "cell_type": "markdown",
   "metadata": {},
   "source": [
    "### Logic Error\n",
    "\n",
    "- compiler is happy\n",
    "- messed up in the string literals\n",
    "- code works perfectly"
   ]
  },
  {
   "cell_type": "code",
   "execution_count": 23,
   "metadata": {
    "vscode": {
     "languageId": "java"
    }
   },
   "outputs": [
    {
     "name": "stdout",
     "output_type": "stream",
     "text": [
      "This is a leogic error.\n"
     ]
    }
   ],
   "source": [
    "public class logicError {\n",
    "    public static void main (String [] args) {\n",
    "\n",
    "        System.out.println(\"This is a leogic error.\");\n",
    "\n",
    "    }\n",
    "}\n",
    "\n",
    "logicError.main(null)"
   ]
  },
  {
   "cell_type": "markdown",
   "metadata": {},
   "source": [
    "### exception error: "
   ]
  },
  {
   "cell_type": "code",
   "execution_count": 31,
   "metadata": {
    "vscode": {
     "languageId": "java"
    }
   },
   "outputs": [
    {
     "name": "stderr",
     "output_type": "stream",
     "text": [
      "Error: Division by zero is not allowed.\n",
      "java.lang.ArithmeticException: / by zero\n",
      "\tat REPL.$JShell$42B$exceptionError.main($JShell$42B.java:19)\n",
      "\tat REPL.$JShell$44.do_it$($JShell$44.java:16)\n",
      "\tat java.base/jdk.internal.reflect.DirectMethodHandleAccessor.invoke(DirectMethodHandleAccessor.java:104)\n",
      "\tat java.base/java.lang.reflect.Method.invoke(Method.java:578)\n",
      "\tat io.github.spencerpark.ijava.execution.IJavaExecutionControl.lambda$execute$1(IJavaExecutionControl.java:95)\n",
      "\tat java.base/java.util.concurrent.FutureTask.run(FutureTask.java:317)\n",
      "\tat java.base/java.util.concurrent.ThreadPoolExecutor.runWorker(ThreadPoolExecutor.java:1144)\n",
      "\tat java.base/java.util.concurrent.ThreadPoolExecutor$Worker.run(ThreadPoolExecutor.java:642)\n",
      "\tat java.base/java.lang.Thread.run(Thread.java:1623)\n"
     ]
    }
   ],
   "source": [
    "public class exceptionError {\n",
    "    public static void main(String[] args) {\n",
    "        try {\n",
    "\n",
    "            int result = 2 / 0;\n",
    "            System.out.println(\"Result: \" + result);\n",
    "        } catch (ArithmeticException e) {\n",
    "            System.err.println(\"Error: Division by zero is not allowed.\");\n",
    "            e.printStackTrace();\n",
    "        }\n",
    "    }\n",
    "}\n",
    "exceptionError.main(null)\n"
   ]
  }
 ],
 "metadata": {
  "kernelspec": {
   "display_name": "Java",
   "language": "java",
   "name": "java"
  },
  "language_info": {
   "codemirror_mode": "java",
   "file_extension": ".jshell",
   "mimetype": "text/x-java-source",
   "name": "Java",
   "pygments_lexer": "java",
   "version": "20+36-2344"
  },
  "orig_nbformat": 4
 },
 "nbformat": 4,
 "nbformat_minor": 2
}
