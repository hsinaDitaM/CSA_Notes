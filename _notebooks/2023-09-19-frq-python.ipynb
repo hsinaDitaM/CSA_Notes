{
 "cells": [
  {
   "cell_type": "markdown",
   "metadata": {},
   "source": [
    "---\n",
    "layout: post\n",
    "title: FRQ No.1 running code\n",
    "description: the hacks for all of the frq 1\n",
    "toc: true\n",
    "comments: true\n",
    "courses: { csa: {week: 4} }\n",
    "type: hacks\n",
    "---"
   ]
  },
  {
   "cell_type": "code",
   "execution_count": 2,
   "metadata": {},
   "outputs": [
    {
     "name": "stdout",
     "output_type": "stream",
     "text": [
      "Game Score: 1350\n"
     ]
    }
   ],
   "source": [
    "# Define a class to represent a game level.\n",
    "class Level:\n",
    "    def __init__(self, points, goal_reached):\n",
    "        # Initialize the level with points and goal status.\n",
    "        self.points = points\n",
    "        self.goal_reached = goal_reached\n",
    "\n",
    "    def get_points(self):\n",
    "        # Return the points associated with this level.\n",
    "        return self.points\n",
    "\n",
    "    def is_goal_reached(self):\n",
    "        # Return whether the goal for this level has been reached.\n",
    "        return self.goal_reached\n",
    "\n",
    "# Define a class to represent a game.\n",
    "class Game:\n",
    "    def __init__(self, levels, is_bonus):\n",
    "        # Initialize the game with a list of levels and whether it's a bonus game.\n",
    "        self.levels = levels\n",
    "        self.is_bonus = is_bonus\n",
    "\n",
    "    def get_score(self):\n",
    "        # Calculate the total score for the game.\n",
    "        total_score = 0\n",
    "        num_levels = len(self.levels)\n",
    "\n",
    "        for i in range(num_levels):\n",
    "            level = self.levels[i]\n",
    "\n",
    "            # Check if the goal for this level has been reached.\n",
    "            if level.is_goal_reached():\n",
    "                if self.is_bonus:\n",
    "                    # Triple the points for this level if it's a bonus game.\n",
    "                    total_score += 3 * level.get_points()\n",
    "                elif i == 0:\n",
    "                    # Add points for level one if it's a non-bonus game.\n",
    "                    total_score += level.get_points()\n",
    "                elif i == 1 and self.levels[i - 1].is_goal_reached():\n",
    "                    # Add points for level two if level one goal is reached in a non-bonus game.\n",
    "                    total_score += level.get_points()\n",
    "                elif i == 2 and all(l.is_goal_reached() for l in self.levels):\n",
    "                    # Add points for level three if all goals are reached in a non-bonus game.\n",
    "                    total_score += level.get_points()\n",
    "\n",
    "        # Return the total calculated score.\n",
    "        return total_score\n",
    "\n",
    "# Create three levels with points and goal status.\n",
    "level1 = Level(100, True)\n",
    "level2 = Level(150, True)\n",
    "level3 = Level(200, True)\n",
    "\n",
    "# Create a game with the levels and specify if it's a bonus game.\n",
    "game = Game([level1, level2, level3], is_bonus=True)\n",
    "\n",
    "# Calculate and print the score for the game.\n",
    "score = game.get_score()\n",
    "print(f\"Game Score: {score}\")\n"
   ]
  }
 ],
 "metadata": {
  "kernelspec": {
   "display_name": "Python 3",
   "language": "python",
   "name": "python3"
  },
  "language_info": {
   "codemirror_mode": {
    "name": "ipython",
    "version": 3
   },
   "file_extension": ".py",
   "mimetype": "text/x-python",
   "name": "python",
   "nbconvert_exporter": "python",
   "pygments_lexer": "ipython3",
   "version": "3.11.4"
  },
  "orig_nbformat": 4
 },
 "nbformat": 4,
 "nbformat_minor": 2
}
