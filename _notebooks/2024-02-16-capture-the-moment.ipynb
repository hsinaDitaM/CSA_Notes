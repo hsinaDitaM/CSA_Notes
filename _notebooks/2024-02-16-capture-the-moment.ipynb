{
 "cells": [
  {
   "cell_type": "markdown",
   "metadata": {},
   "source": [
    "---\n",
    "title: Capture the moment blog\n",
    "description: the blog made for the Capture the moment night. \n",
    "toc: true\n",
    "layout: post\n",
    "comments: true\n",
    "---"
   ]
  },
  {
   "cell_type": "markdown",
   "metadata": {},
   "source": [
    "# Two Trimester focus planning\n",
    "\n",
    "- how you used N@tM to capture test data to be used in trimester 3\n",
    "    - we used people to test out our messaging platform and how they would use it. seeing this, we decided to move around a lot of stuff to mimic discord and to lower the learning curve for new users that are planning to use our messaging platform.\n",
    "- from feedback, something you will add to your project\n",
    "    - from the recent changes to the school policy, we plan on adding a bathroom pass tab to our project, which i wil take on alongside with the image api. \n",
    "- other?\n",
    "    Mr. Lopez came to check out our project and he said that we should ue websocket to fetch messages instead of fetching every 3.5 seconds. \n",
    "\n",
    "# Blog / article on you and team\n",
    "\n",
    "- reflection on glows/grows from your demo/presentations\n",
    "    - i think that our team did a good job on the presentation, but we could have done better on the demo. we could have shown more of the features that we have implemented and how they work. one glow was that people liked the idea of our project and how it could be used in the school instead of slack. \n",
    "- visuals or pics of team and people you talked\n",
    "    - ![Image](https://github.com/nighthawkcoders/teacher_portfolio/assets/111465192/26cf3fae-94af-4cab-83ec-33a68740d09e)\n",
    "\n",
    "\n",
    "# Blog on event\n",
    "\n",
    "- something you saw in CompSci that impressed\n",
    "    - some csp kids made some baking program, where you would drag and drop the ingredients and it would give the food that you cooked.\n",
    "- something you saw outside of CompSci that you liked\n",
    "    - i saw 3d models of a donut and they were really cool. even tough i made the same donut, it was really cool to see how other people made. "
   ]
  }
 ],
 "metadata": {
  "language_info": {
   "name": "python"
  }
 },
 "nbformat": 4,
 "nbformat_minor": 2
}
