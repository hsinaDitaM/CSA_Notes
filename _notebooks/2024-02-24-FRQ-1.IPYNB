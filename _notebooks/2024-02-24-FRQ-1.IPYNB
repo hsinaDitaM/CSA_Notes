{
 "cells": [
  {
   "cell_type": "markdown",
   "metadata": {},
   "source": [
    "---\n",
    "title: Tri 2 FRQ finals\n",
    "toc: true\n",
    "layout: post\n",
    "comments: true\n",
    "courses: { csa: {week: 24} }\n",
    "---"
   ]
  },
  {
   "cell_type": "markdown",
   "metadata": {},
   "source": [
    "----\n",
    "\n",
    "# 1\n",
    "\n",
    "## a. \n",
    "<img width=\"759\" alt=\"Screenshot 2024-02-20 at 12 43 21 PM\" src=\"https://github.com/CoolCodingPeople/place/assets/111465192/055ebf9f-3813-4c6a-a263-73f9daf1e33f\">\n",
    "\n",
    "### Answer:\n",
    "```java\n",
    "public static int arraySum(int[] arr) {\n",
    "  // Initialize a variable to hold the sum\n",
    "  int sum = 0;\n",
    "\n",
    "  // Iterate over each element in the array\n",
    "  for (int i = 0; i < arr.length; i++) {\n",
    "    sum += arr[i];\n",
    "  }\n",
    "\n",
    "  return sum;\n",
    "}\n",
    "```\n",
    "\n",
    "```java\n",
    "\n",
    "int[] arr = {1, 3, 2, 7, 3};\n",
    "int sum = arraySum(arr);\n",
    "System.out.println(\"The sum of the array is: \" + sum);\n",
    "\n",
    "```\n",
    "\n",
    "### code output:\n",
    "```\n",
    "The sum of the array is: 16\n",
    "```\n",
    "\n",
    "## b. \n",
    "<img width=\"765\" alt=\"Screenshot 2024-02-20 at 12 44 10 PM\" src=\"https://github.com/CoolCodingPeople/place/assets/111465192/d97351a2-7fa5-4931-b41b-f0468c89c617\">\n",
    "\n",
    "### Answer:\n",
    "### Answer:\n",
    "```java\n",
    "public static int[] rowSums(int[][] arr2D) {\n",
    "  int numRows = arr2D.length;  // Get the number of rows in the 2D array\n",
    "  int[] sums = new int[numRows]; // Create a new 1D array to store the row sumsw\n",
    "\n",
    "  for (int i = 0; i < numRows; i++) {\n",
    "    sums[i] = arraySum(arr2D[i]); // Use the arraySum method to calculate the sum of each row and store it in the sums array\n",
    "  }\n",
    "\n",
    "  return sums;\n",
    "}\n",
    "```\n",
    "\n",
    "```java\n",
    "//2d array 1-9 but i cant commit if it is here, so just imagine it divided into three brackets \n",
    "int[] sums = rowSums(arr2D);\n",
    "\n",
    "for (int i = 0; i < sums.length; i++) {\n",
    "  System.out.println(\"The sum of row \" + i + \" is: \" + sums[i]);\n",
    "}\n",
    "```\n",
    "\n",
    "```\n",
    "The sum of row 0 is: 6\n",
    "The sum of row 1 is: 15\n",
    "The sum of row 2 is: 24\n",
    "```\n",
    "\n",
    "\n",
    "## c.\n",
    "<img width=\"894\" alt=\"Screenshot 2024-02-20 at 12 46 01 PM\" src=\"https://github.com/CoolCodingPeople/place/assets/111465192/45711d73-039a-49f2-bb5a-9758baa24790\">\n",
    "\n",
    "### Answer:\n",
    "```java\n",
    "public static boolean isDiverse(int[][] arr2D) {\n",
    "  // 1. Calculate the row sums and store them in a separate array.\n",
    "  int[] rowSums = rowSums(arr2D);\n",
    "\n",
    "  // 2. Check for duplicate sums using a nested loop.\n",
    "  for (int i = 0; i < rowSums.length - 1; i++) {\n",
    "    for (int j = i + 1; j < rowSums.length; j++) {\n",
    "      if (rowSums[i] == rowSums[j]) {\n",
    "        return false; // If a duplicate sum is found, the array is not diverse.\n",
    "      }\n",
    "    }\n",
    "  }\n",
    "\n",
    "  // 3. If no duplicates are found, return true (array is diverse).\n",
    "  return true;\n",
    "}\n",
    "\n",
    "```\n"
   ]
  },
  {
   "cell_type": "code",
   "execution_count": 1,
   "metadata": {
    "vscode": {
     "languageId": "java"
    }
   },
   "outputs": [
    {
     "name": "stdout",
     "output_type": "stream",
     "text": [
      "The sum of the array is: 16\n"
     ]
    }
   ],
   "source": [
    "public static int arraySum(int[] arr) {\n",
    "    // Initialize a variable to hold the sum\n",
    "    int sum = 0;\n",
    "  \n",
    "    // Iterate over each element in the array\n",
    "    for (int i = 0; i < arr.length; i++) {\n",
    "      sum += arr[i];\n",
    "    }\n",
    "  \n",
    "    return sum;\n",
    "  }\n",
    "\n",
    "  \n",
    "  int[] arr = {1, 3, 2, 7, 3};\n",
    "  int sum = arraySum(arr);\n",
    "  System.out.println(\"The sum of the array is: \" + sum);"
   ]
  }
 ],
 "metadata": {
  "kernelspec": {
   "display_name": "Java",
   "language": "java",
   "name": "java"
  },
  "language_info": {
   "codemirror_mode": "java",
   "file_extension": ".jshell",
   "mimetype": "text/x-java-source",
   "name": "Java",
   "pygments_lexer": "java",
   "version": "20+36-2344"
  }
 },
 "nbformat": 4,
 "nbformat_minor": 2
}
