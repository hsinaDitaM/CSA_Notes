{
 "cells": [
  {
   "cell_type": "markdown",
   "metadata": {},
   "source": [
    "---\n",
    "title: Tri 2 FRQ 2 finals\n",
    "toc: true\n",
    "layout: post\n",
    "comments: true\n",
    "courses: { csa: {week: 24} }\n",
    "---"
   ]
  },
  {
   "cell_type": "markdown",
   "metadata": {},
   "source": [
    "----\n",
    "# 2\n",
    "\n",
    "<img width=\"902\" alt=\"Screenshot 2024-02-20 at 12 47 58 PM\" src=\"https://github.com/CoolCodingPeople/place/assets/111465192/c42464a4-13e5-4a9f-9f6d-c97c0472f903\">\n",
    "\n",
    "### Answer:\n",
    "```java\n",
    "\n",
    "public class HiddenWord {\n",
    "    // A private instance variable that holds the hidden word\n",
    "    private String hiddenWord;\n",
    "\n",
    "    // A constructor that takes a String argument to initialize the hidden word\n",
    "    public HiddenWord(String hiddenWord) {\n",
    "        this.hiddenWord = hiddenWord;\n",
    "    }\n",
    "\n",
    "    // A method that takes a guess and returns a hint based on the guess\n",
    "    public String getHint(String guess) {\n",
    "        StringBuilder hint = new StringBuilder();\n",
    "\n",
    "        // Iterate over each character in the hidden word\n",
    "        for (int i = 0; i < hiddenWord.length(); i++) {\n",
    "            // Get the corresponding characters from the guess and the hidden word\n",
    "            char guessChar = guess.charAt(i);\n",
    "            char hiddenChar = hiddenWord.charAt(i);\n",
    "\n",
    "            // If the guessed character matches the hidden character at the same position\n",
    "            if (guessChar == hiddenChar) {\n",
    "                hint.append(guessChar);\n",
    "            } \n",
    "            // If the guessed character is in the hidden word but at a different position\n",
    "            else if (hiddenWord.indexOf(guessChar) != -1) {\n",
    "                hint.append(\"+\");\n",
    "            } \n",
    "            // If the guessed character is not in the hidden word\n",
    "            else {\n",
    "                hint.append(\"*\");\n",
    "            }\n",
    "        }\n",
    "\n",
    "        return hint.toString();\n",
    "    }\n",
    "}\n",
    "\n",
    "public static void main(String[] args) {\n",
    "        HiddenWord puzzle = new HiddenWord(\"TANAY\");\n",
    "        System.out.println(\"Guess: AAAAA -> Hint: \" + puzzle.getHint(\"AAAAA\"));\n",
    "        System.out.println(\"Guess: HELLO -> Hint: \" + puzzle.getHint(\"TANNED\"));\n",
    "        System.out.println(\"Guess: HEART -> Hint: \" + puzzle.getHint(\"TINED\"));\n",
    "        System.out.println(\"Guess: HARMS -> Hint: \" + puzzle.getHint(\"TAHITI\"));\n",
    "        System.out.println(\"Guess: HARPS -> Hint: \" + puzzle.getHint(\"TANAY\"));\n",
    "    }\n",
    "\n",
    "```"
   ]
  }
 ],
 "metadata": {
  "kernelspec": {
   "display_name": "Java",
   "language": "java",
   "name": "java"
  },
  "language_info": {
   "codemirror_mode": "java",
   "file_extension": ".jshell",
   "mimetype": "text/x-java-source",
   "name": "Java",
   "pygments_lexer": "java",
   "version": "20+36-2344"
  }
 },
 "nbformat": 4,
 "nbformat_minor": 2
}
